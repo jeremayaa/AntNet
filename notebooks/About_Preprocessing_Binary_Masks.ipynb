{
 "cells": [
  {
   "cell_type": "code",
   "execution_count": 1,
   "id": "85b22530",
   "metadata": {},
   "outputs": [],
   "source": [
    "# Cell 1 — Setup imports & path\n",
    "import sys, os\n",
    "from pathlib import Path\n",
    "\n",
    "# ensure src/ is on PYTHONPATH\n",
    "PROJECT_ROOT = Path('..').resolve()\n",
    "SRC_PATH = PROJECT_ROOT / 'src'\n",
    "sys.path.append(str(SRC_PATH))\n",
    "\n",
    "import glob\n",
    "import numpy as np\n",
    "import matplotlib.pyplot as plt\n",
    "\n",
    "# utils and env/model\n",
    "import utils\n",
    "from engine import AntEnv"
   ]
  },
  {
   "cell_type": "code",
   "execution_count": 2,
   "id": "d90ad25d",
   "metadata": {},
   "outputs": [],
   "source": [
    "image_index = 1\n"
   ]
  },
  {
   "cell_type": "code",
   "execution_count": 3,
   "id": "84050371",
   "metadata": {},
   "outputs": [],
   "source": [
    "img_path = f'/Users/jeremiasz/Desktop/AntNet/data/Fold1_jpg/images/{image_index}.jpg'\n",
    "mask_path  = f'/Users/jeremiasz/Desktop/AntNet/data/Fold1_jpg/masks/{image_index}.jpg'\n",
    "\n",
    "\n",
    "# load\n",
    "img  = utils.load_image(img_path)\n",
    "mask = utils.load_mask(mask_path)"
   ]
  },
  {
   "cell_type": "code",
   "execution_count": 4,
   "id": "ae41a4bf",
   "metadata": {},
   "outputs": [],
   "source": [
    "# utils.show_n_images(img, mask, titles=['image', 'mask'])"
   ]
  },
  {
   "cell_type": "code",
   "execution_count": 7,
   "id": "7f2e82d0",
   "metadata": {},
   "outputs": [
    {
     "ename": "AttributeError",
     "evalue": "module 'utils' has no attribute 'make_heatmap_from_mask'",
     "output_type": "error",
     "traceback": [
      "\u001b[31m---------------------------------------------------------------------------\u001b[39m",
      "\u001b[31mAttributeError\u001b[39m                            Traceback (most recent call last)",
      "\u001b[36mCell\u001b[39m\u001b[36m \u001b[39m\u001b[32mIn[7]\u001b[39m\u001b[32m, line 2\u001b[39m\n\u001b[32m      1\u001b[39m internal_edges = utils.extract_internal_edges(mask, \u001b[32m10\u001b[39m)\n\u001b[32m----> \u001b[39m\u001b[32m2\u001b[39m heatmap = \u001b[43mutils\u001b[49m\u001b[43m.\u001b[49m\u001b[43mmake_heatmap_from_mask\u001b[49m(mask)\n\u001b[32m      4\u001b[39m \u001b[38;5;66;03m# plt.imshow(internal_edges)\u001b[39;00m\n\u001b[32m      5\u001b[39m imgs = [[\u001b[38;5;28;01mNone\u001b[39;00m, img, \u001b[38;5;28;01mNone\u001b[39;00m],\n\u001b[32m      6\u001b[39m         [mask, internal_edges, heatmap]]\n",
      "\u001b[31mAttributeError\u001b[39m: module 'utils' has no attribute 'make_heatmap_from_mask'"
     ]
    }
   ],
   "source": [
    "internal_edges = utils.extract_internal_edges(mask, 10)\n",
    "heatmap = utils.make_heatmap_from_mask(mask)\n",
    "\n",
    "# plt.imshow(internal_edges)\n",
    "imgs = [[None, img, None],\n",
    "        [mask, internal_edges, heatmap]]\n",
    "utils.show_n_images(imgs, titles=[['', 'image', ''],\n",
    "                                  ['mask', 'edges', 'heatmap']])"
   ]
  }
 ],
 "metadata": {
  "kernelspec": {
   "display_name": "3.11.6",
   "language": "python",
   "name": "python3"
  },
  "language_info": {
   "codemirror_mode": {
    "name": "ipython",
    "version": 3
   },
   "file_extension": ".py",
   "mimetype": "text/x-python",
   "name": "python",
   "nbconvert_exporter": "python",
   "pygments_lexer": "ipython3",
   "version": "3.11.6"
  }
 },
 "nbformat": 4,
 "nbformat_minor": 5
}
